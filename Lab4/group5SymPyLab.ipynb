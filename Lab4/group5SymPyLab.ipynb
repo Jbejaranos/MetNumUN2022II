{
  "cells": [
    {
      "cell_type": "markdown",
      "metadata": {
        "id": "vtY1shFnMal_"
      },
      "source": [
        "# SymPyLab\n",
        "\n",
        "SymPy’s documentation\n",
        "- https://docs.sympy.org/latest/index.html\n"
      ]
    },
    {
      "cell_type": "markdown",
      "metadata": {
        "id": "2U0fAIf5G4rR"
      },
      "source": [
        "## SymPy’s polynomials \n",
        "- https://docs.sympy.org/latest/modules/polys/basics.html#polynomials \n",
        "\n",
        "$$ P_n(x) =  a_n x^n + a_{n-1} x^{n-1} + a_{n-2} x^{n-2} +\\cdots +  a_1 x  + a_0$$\n",
        "\n",
        "$$P_n(x) = 0 $$\n",
        "\n",
        "$$a_n x^n + a_{n-1} x^{n-1} + a_{n-2} x^{n-2} +\\cdots +  a_1 x  + a_0 = 0$$\n",
        "\n",
        "$$(x-r_1) Q_{n-1}(x) = P_n(x)$$\n",
        "$$(x-r_1) (x - r_2) Q_{n-2}(x) = P_n(x)$$\n",
        "$$ \\vdots $$\n",
        "\n",
        "- (x-1)(x-2)(x-3)(x-4)(x-5) = x^5 - 15 x^4  + 85 x^3 - 225 x^2 + 274 x - 120\n",
        "\n",
        "- (x^5 - 15 x^4  + 85 x^3 - 225 x^2 + 274 x - 120) / (x-1) = x^4  - 14 x^3  + 71 x^2  - 154 x + 120"
      ]
    },
    {
      "cell_type": "markdown",
      "metadata": {
        "id": "GSRpl42A6UXg"
      },
      "source": [
        "<img src=\"https://raw.githubusercontent.com/gjhernandezp/NM/main/SymPyLab/sympylabwolfram1.jpg\" /> <img src=\"https://raw.githubusercontent.com/gjhernandezp/NM/main/SymPyLab/sympylabwolfram2.jpg\" />\n"
      ]
    },
    {
      "cell_type": "code",
      "execution_count": 5,
      "metadata": {
        "colab": {
          "base_uri": "https://localhost:8080/"
        },
        "id": "Fw1yPZWLMb5P",
        "outputId": "04d62d99-2536-43f9-ed3b-e9a845775494"
      },
      "outputs": [
        {
          "name": "stdout",
          "output_type": "stream",
          "text": [
            "x**6 + 17*x**5 - 15*x**4 - 46*x**3 - 25*x**2 + 420*x - 120\n",
            "x**5 + 18*x**4 + 3*x**3 - 43*x**2 - 68*x + 352\n",
            "232\n",
            "x**4 + 20*x**3 + 43*x**2 + 43*x + 18\n",
            "388\n",
            "x**3 + 23*x**2 + 112*x + 379\n",
            "1155\n",
            "x**2 + 27*x + 220\n",
            "1259\n"
          ]
        }
      ],
      "source": [
        "from sympy import Symbol\n",
        "from sympy import div\n",
        "\n",
        "x = Symbol('x')\n",
        "\n",
        "p = x**6 + 17*x**5 - 15*x**4  - 46*x**3 - 25*x**2 + 420*x - 120\n",
        "\n",
        "print(p)\n",
        "\n",
        "p, r = div(p,  x-1)\n",
        "\n",
        "print(p)\n",
        "print(r)\n",
        "\n",
        "p, r = div(p,  x-2)\n",
        "\n",
        "print(p)\n",
        "print(r)\n",
        "\n",
        "p, r = div(p,  x-3)\n",
        "\n",
        "print(p)\n",
        "print(r)\n",
        "\n",
        "p, r = div(p,  x-4)\n",
        "\n",
        "print(p)\n",
        "print(r)\n",
        "\n"
      ]
    },
    {
      "cell_type": "code",
      "execution_count": 6,
      "metadata": {
        "colab": {
          "base_uri": "https://localhost:8080/"
        },
        "id": "gQ-VwywTarYw",
        "outputId": "554af333-6177-466b-d536-2686514dce07"
      },
      "outputs": [
        {
          "name": "stdout",
          "output_type": "stream",
          "text": [
            "x**5 + 23*x**4 + 123*x**3 + 692*x**2 + 4127*x + 25182\n",
            "150972\n"
          ]
        }
      ],
      "source": [
        "p = x**6 + 17*x**5 - 15*x**4  - 46*x**3 - 25*x**2 + 420*x - 120\n",
        "\n",
        "p, r = div(p,  x-6)\n",
        "\n",
        "print(p)\n",
        "print(r)"
      ]
    },
    {
      "cell_type": "markdown",
      "metadata": {
        "id": "LrP1xT6VKZrE"
      },
      "source": [
        "## SymPy’s polynomial simple univariate polynomial factorization\n",
        "- https://docs.sympy.org/latest/modules/polys/wester.html#simple-univariate-polynomial-factorization\n",
        "- factor(x\\*\\*5 - 15\\*x\\*\\*4  + 85\\*x\\*\\*3 - 225\\*x\\*\\*2 + 274\\*x - 120)"
      ]
    },
    {
      "cell_type": "markdown",
      "metadata": {
        "id": "2NPChCoPLsls"
      },
      "source": [
        "<img src=\"https://raw.githubusercontent.com/gjhernandezp/NM/main/SymPyLab/sympylabwolfram3.jpg\" />\n",
        "\n"
      ]
    },
    {
      "cell_type": "code",
      "execution_count": 7,
      "metadata": {
        "colab": {
          "base_uri": "https://localhost:8080/",
          "height": 39
        },
        "id": "i2vHjXOIKvQu",
        "outputId": "52e02bbe-8361-4ccd-c853-44cb286266d7"
      },
      "outputs": [
        {
          "data": {
            "text/latex": [
              "$\\displaystyle x^{6} + 17 x^{5} - 15 x^{4} - 46 x^{3} - 25 x^{2} + 420 x - 120$"
            ],
            "text/plain": [
              "x**6 + 17*x**5 - 15*x**4 - 46*x**3 - 25*x**2 + 420*x - 120"
            ]
          },
          "execution_count": 7,
          "metadata": {},
          "output_type": "execute_result"
        }
      ],
      "source": [
        "from sympy import Symbol,factor\n",
        "x = Symbol('x')\n",
        "factor(x**6 + 17*x**5 - 15*x**4  - 46*x**3 - 25*x**2 + 420*x - 120)"
      ]
    },
    {
      "cell_type": "markdown",
      "metadata": {
        "id": "xoq8A5ipMdRa"
      },
      "source": [
        "## SymPy’s solvers\n",
        "- https://docs.sympy.org/latest/tutorial/solvers.html\n",
        "- x\\*\\*5 - 15\\*x\\*\\*4  + 85\\*x\\*\\* 3 - 225\\*x\\*\\* 2 + 274\\*x - 120 = 0"
      ]
    },
    {
      "cell_type": "code",
      "execution_count": 8,
      "metadata": {
        "colab": {
          "base_uri": "https://localhost:8080/",
          "height": 37
        },
        "id": "DLzUsS8YMlNK",
        "outputId": "cd5bde9d-538d-4979-f748-6e6434b99aae"
      },
      "outputs": [
        {
          "data": {
            "text/latex": [
              "$\\displaystyle \\left\\{0, \\operatorname{CRootOf} {\\left(12 x^{5} - 6 x^{4} - 8 x^{3} + 7 x^{2} - 69 x + 2, 0\\right)}, \\operatorname{CRootOf} {\\left(12 x^{5} - 6 x^{4} - 8 x^{3} + 7 x^{2} - 69 x + 2, 1\\right)}, \\operatorname{CRootOf} {\\left(12 x^{5} - 6 x^{4} - 8 x^{3} + 7 x^{2} - 69 x + 2, 2\\right)}, \\operatorname{CRootOf} {\\left(12 x^{5} - 6 x^{4} - 8 x^{3} + 7 x^{2} - 69 x + 2, 3\\right)}, \\operatorname{CRootOf} {\\left(12 x^{5} - 6 x^{4} - 8 x^{3} + 7 x^{2} - 69 x + 2, 4\\right)}\\right\\}$"
            ],
            "text/plain": [
              "{0, CRootOf(12*x**5 - 6*x**4 - 8*x**3 + 7*x**2 - 69*x + 2, 0), CRootOf(12*x**5 - 6*x**4 - 8*x**3 + 7*x**2 - 69*x + 2, 1), CRootOf(12*x**5 - 6*x**4 - 8*x**3 + 7*x**2 - 69*x + 2, 2), CRootOf(12*x**5 - 6*x**4 - 8*x**3 + 7*x**2 - 69*x + 2, 3), CRootOf(12*x**5 - 6*x**4 - 8*x**3 + 7*x**2 - 69*x + 2, 4)}"
            ]
          },
          "execution_count": 8,
          "metadata": {},
          "output_type": "execute_result"
        }
      ],
      "source": [
        "from sympy import Symbol, solveset, Eq\n",
        "x = Symbol('x')\n",
        "solveset(Eq(12*x**6 - 6*x**5 - 8*x**4  + 7*x**3 - 69*x**2 + 2*x, 0), x)\n"
      ]
    },
    {
      "cell_type": "markdown",
      "metadata": {
        "id": "pi7rUwG472tc"
      },
      "source": [
        "<img src=\"https://raw.githubusercontent.com/gjhernandezp/NM/main/SymPyLab/sympylabwolfram5.jpg\" />\n"
      ]
    },
    {
      "cell_type": "code",
      "execution_count": 9,
      "metadata": {
        "colab": {
          "base_uri": "https://localhost:8080/",
          "height": 47
        },
        "id": "ALzYmizCcXvv",
        "outputId": "e7f1b5f2-a475-4817-c0f9-674ef315e1d6"
      },
      "outputs": [
        {
          "data": {
            "text/latex": [
              "$\\displaystyle \\left\\{\\frac{1}{3} + \\frac{\\pi}{6} - \\frac{i \\sqrt{- \\pi^{2} - 4 + 44 \\pi}}{6}, \\frac{1}{3} + \\frac{\\pi}{6} + \\frac{i \\sqrt{- \\pi^{2} - 4 + 44 \\pi}}{6}\\right\\}$"
            ],
            "text/plain": [
              "{1/3 + pi/6 - I*sqrt(-pi**2 - 4 + 44*pi)/6, 1/3 + pi/6 + I*sqrt(-pi**2 - 4 + 44*pi)/6}"
            ]
          },
          "execution_count": 9,
          "metadata": {},
          "output_type": "execute_result"
        }
      ],
      "source": [
        "from sympy import Symbol, solveset, Eq, sqrt, pi\n",
        "x = Symbol('x')\n",
        "solveset(Eq(3*x**2 - (sqrt(4)+pi)*x + (sqrt(16)*pi) , 0), x)\n"
      ]
    },
    {
      "cell_type": "markdown",
      "metadata": {
        "id": "kw48-B_Z_vQc"
      },
      "source": [
        "*   Reference docs for the Poly Domains https://docs.sympy.org/dev/modules/polys/domainsref.html\n",
        "\n",
        "*   Introducing the Domains of the poly module https://docs.sympy.org/dev/modules/polys/domainsintro.html\n",
        "\n",
        "*   Internals of the Polynomial Manipulation Module https://docs.sympy.org/latest/modules/polys/internals.html"
      ]
    },
    {
      "cell_type": "markdown",
      "metadata": {
        "id": "G4hb9Ak_-ujE"
      },
      "source": [
        "<img src=\"https://raw.githubusercontent.com/gjhernandezp/NM/main/SymPyLab/sympylabwolfram6.jpg\" />"
      ]
    },
    {
      "cell_type": "code",
      "execution_count": 10,
      "metadata": {
        "colab": {
          "base_uri": "https://localhost:8080/",
          "height": 39
        },
        "id": "EdK4Tfz0-dLW",
        "outputId": "ce09405b-fdb9-44df-e096-b5a5cfdfbd9a"
      },
      "outputs": [
        {
          "data": {
            "text/latex": [
              "$\\displaystyle x^{3} \\left(x + 1\\right)^{2}$"
            ],
            "text/plain": [
              "x**3*(x + 1)**2"
            ]
          },
          "execution_count": 10,
          "metadata": {},
          "output_type": "execute_result"
        }
      ],
      "source": [
        "from sympy import Symbol,factor\n",
        "x = Symbol('x')\n",
        "factor(x**5 - 8*x**4  - x**3 + 26*x**2 - 12*x - 4,domain='GF(2)')"
      ]
    },
    {
      "cell_type": "markdown",
      "metadata": {
        "id": "OtsxSwPmV3Vs"
      },
      "source": [
        "## SymPy’s Symbolic and Numercical Complex Evaluations\n",
        "- https://docs.sympy.org/latest/modules/evalf.html](https://)\n",
        "- x = x1 + I*x2,y = y1 + I*y2, z = z1 + I*z2, x*y*z"
      ]
    },
    {
      "cell_type": "markdown",
      "metadata": {
        "id": "XxWt-AcaZxdp"
      },
      "source": [
        "<img src=\"https://raw.githubusercontent.com/gjhernandezp/NM/main/SymPyLab/sympylabwolfram7.jpg\" />"
      ]
    },
    {
      "cell_type": "code",
      "execution_count": 11,
      "metadata": {
        "colab": {
          "base_uri": "https://localhost:8080/"
        },
        "id": "ENDQbfLGV31r",
        "outputId": "ce0dcaf0-0777-48a4-aa82-ad8206247e51"
      },
      "outputs": [
        {
          "name": "stdout",
          "output_type": "stream",
          "text": [
            "(12*x1 + I*x2)*(5*y1 + I*y2)*(2*z1 + I*z2)\n",
            "120*x1*y1*z1 + 60*I*x1*y1*z2 + 24*I*x1*y2*z1 - 12*x1*y2*z2 + 10*I*x2*y1*z1 - 5*x2*y1*z2 - 2*x2*y2*z1 - I*x2*y2*z2\n",
            "120*x1*y1*z1 + 60*I*x1*y1*z2 + 24*I*x1*y2*z1 - 12*x1*y2*z2 + 10*I*x2*y1*z1 - 5*x2*y1*z2 - 2*x2*y2*z1 - I*x2*y2*z2\n",
            "120*x1*y1*z1 + 60*I*x1*y1*z2 + 24*I*x1*y2*z1 - 12*x1*y2*z2 + 10*I*x2*y1*z1 - 5*x2*y1*z2 - 2*x2*y2*z1 - I*x2*y2*z2\n",
            "w= 0.28902548222223624241 - 0.091999668350375232456*I\n"
          ]
        }
      ],
      "source": [
        "from sympy import symbols, I, N, pi, expand\n",
        "x1, x2, y1, y2, z1, z2 = symbols(\"x1 x2 y1 y2 z1 z2\", real=True)  \n",
        "x = 12*x1 + I*x2\n",
        "y = 5*y1 + I*y2\n",
        "z = 2*z1 + I*z2\n",
        "\n",
        "print(x*y*z)\n",
        "print(expand(x*y*z))\n",
        "print(expand((x*y)*z))\n",
        "print(expand(x*(y*z)))\n",
        "\n",
        "w=N(1/(pi + I), 20)\n",
        "print('w=',w)"
      ]
    },
    {
      "cell_type": "markdown",
      "metadata": {
        "id": "eaqIgmnkPNVT"
      },
      "source": [
        "## Wolfram alpha answers quastion in natural languaje\n",
        "- What is the distance from New York To Miami?\n",
        "\n",
        "<img src=\"https://github.com/Jbejaranos/MetNumUN2022II/blob/a0aa87ee0bd3d4d285923b2a504a3c114dc82bf7/Lab4/wolframQuestion.png\"/>"
      ]
    },
    {
      "cell_type": "markdown",
      "metadata": {
        "id": "FIbSSOvEC8R0"
      },
      "source": [
        "## SymPy’s integrate\n",
        "\n",
        "<img src=\"https://raw.githubusercontent.com/gjhernandezp/NM/main/SymPyLab/sympylabwolfram9.jpg\" />\n",
        "\n"
      ]
    },
    {
      "cell_type": "code",
      "execution_count": 13,
      "metadata": {
        "colab": {
          "base_uri": "https://localhost:8080/",
          "height": 55
        },
        "id": "p5wwxfa7BtzU",
        "outputId": "d0b0f490-160f-4709-d53d-49de3c5c3ede"
      },
      "outputs": [
        {
          "data": {
            "text/latex": [
              "$\\displaystyle \\frac{3 \\sqrt{2} \\sqrt{\\pi} \\left(\\cos{\\left(\\frac{1}{4} \\right)} C\\left(\\frac{\\sqrt{2} \\cdot \\left(2 x - 1\\right)}{2 \\sqrt{\\pi}}\\right) + \\sin{\\left(\\frac{1}{4} \\right)} S\\left(\\frac{\\sqrt{2} \\cdot \\left(2 x - 1\\right)}{2 \\sqrt{\\pi}}\\right)\\right)}{16} - \\frac{3 \\sqrt{2} \\sqrt{\\pi} \\left(\\cos{\\left(\\frac{1}{4} \\right)} C\\left(\\frac{\\sqrt{2} \\cdot \\left(2 x + 1\\right)}{2 \\sqrt{\\pi}}\\right) + \\sin{\\left(\\frac{1}{4} \\right)} S\\left(\\frac{\\sqrt{2} \\cdot \\left(2 x + 1\\right)}{2 \\sqrt{\\pi}}\\right)\\right)}{16} - \\frac{\\sqrt{2} \\sqrt{\\pi} \\left(\\cos{\\left(\\frac{9}{4} \\right)} C\\left(\\frac{\\sqrt{2} \\cdot \\left(2 x - 3\\right)}{2 \\sqrt{\\pi}}\\right) + \\sin{\\left(\\frac{9}{4} \\right)} S\\left(\\frac{\\sqrt{2} \\cdot \\left(2 x - 3\\right)}{2 \\sqrt{\\pi}}\\right)\\right)}{16} + \\frac{\\sqrt{2} \\sqrt{\\pi} \\left(\\cos{\\left(\\frac{9}{4} \\right)} C\\left(\\frac{\\sqrt{2} \\cdot \\left(2 x + 3\\right)}{2 \\sqrt{\\pi}}\\right) + \\sin{\\left(\\frac{9}{4} \\right)} S\\left(\\frac{\\sqrt{2} \\cdot \\left(2 x + 3\\right)}{2 \\sqrt{\\pi}}\\right)\\right)}{16}$"
            ],
            "text/plain": [
              "3*sqrt(2)*sqrt(pi)*(cos(1/4)*fresnelc(sqrt(2)*(2*x - 1)/(2*sqrt(pi))) + sin(1/4)*fresnels(sqrt(2)*(2*x - 1)/(2*sqrt(pi))))/16 - 3*sqrt(2)*sqrt(pi)*(cos(1/4)*fresnelc(sqrt(2)*(2*x + 1)/(2*sqrt(pi))) + sin(1/4)*fresnels(sqrt(2)*(2*x + 1)/(2*sqrt(pi))))/16 - sqrt(2)*sqrt(pi)*(cos(9/4)*fresnelc(sqrt(2)*(2*x - 3)/(2*sqrt(pi))) + sin(9/4)*fresnels(sqrt(2)*(2*x - 3)/(2*sqrt(pi))))/16 + sqrt(2)*sqrt(pi)*(cos(9/4)*fresnelc(sqrt(2)*(2*x + 3)/(2*sqrt(pi))) + sin(9/4)*fresnels(sqrt(2)*(2*x + 3)/(2*sqrt(pi))))/16"
            ]
          },
          "execution_count": 13,
          "metadata": {},
          "output_type": "execute_result"
        }
      ],
      "source": [
        "from sympy import Symbol, integrate, sin\n",
        "x = Symbol('x')\n",
        "integrate(sin(x**2) * sin(x)**3, x)"
      ]
    },
    {
      "cell_type": "markdown",
      "metadata": {
        "id": "JkW8LPxbD2Eq"
      },
      "source": [
        "<img src=\"https://raw.githubusercontent.com/gjhernandezp/NM/main/SymPyLab/sympylabwolfram10.jpg\" />"
      ]
    },
    {
      "cell_type": "code",
      "execution_count": 14,
      "metadata": {
        "colab": {
          "base_uri": "https://localhost:8080/",
          "height": 55
        },
        "id": "EoipdE0UD7Aa",
        "outputId": "f133c50c-ae70-4dbf-fc68-3abc43fe8606"
      },
      "outputs": [
        {
          "data": {
            "text/latex": [
              "$\\displaystyle - \\frac{1793 \\sin^{2}{\\left(20 \\right)} \\cos{\\left(20 \\right)}}{96} - \\frac{895 \\cos^{3}{\\left(20 \\right)}}{72} + \\frac{65 \\sin^{2}{\\left(4 \\right)} \\cos{\\left(4 \\right)}}{96} + \\frac{31 \\cos^{3}{\\left(4 \\right)}}{72} - \\frac{\\sin{\\left(4 \\right)} \\cos^{2}{\\left(4 \\right)}}{4} - \\frac{7 \\sin^{3}{\\left(4 \\right)}}{24} + \\frac{5 \\sin{\\left(20 \\right)} \\cos^{2}{\\left(20 \\right)}}{4} + \\frac{35 \\sin^{3}{\\left(20 \\right)}}{24}$"
            ],
            "text/plain": [
              "-1793*sin(20)**2*cos(20)/96 - 895*cos(20)**3/72 + 65*sin(4)**2*cos(4)/96 + 31*cos(4)**3/72 - sin(4)*cos(4)**2/4 - 7*sin(4)**3/24 + 5*sin(20)*cos(20)**2/4 + 35*sin(20)**3/24"
            ]
          },
          "execution_count": 14,
          "metadata": {},
          "output_type": "execute_result"
        }
      ],
      "source": [
        "from sympy import Symbol, integrate, sin\n",
        "x = Symbol('x')\n",
        "integrate(3*x**2 * sin(4*x)**3, (x,1,5))\n"
      ]
    },
    {
      "cell_type": "code",
      "execution_count": 15,
      "metadata": {
        "colab": {
          "base_uri": "https://localhost:8080/",
          "height": 37
        },
        "id": "rFRmuWfnEPWb",
        "outputId": "401d9d1b-9d68-4d51-f4a8-fa2a29c18861"
      },
      "outputs": [
        {
          "data": {
            "text/latex": [
              "$\\displaystyle -6.09814567540308$"
            ],
            "text/plain": [
              "-6.09814567540308"
            ]
          },
          "execution_count": 15,
          "metadata": {},
          "output_type": "execute_result"
        }
      ],
      "source": [
        "from sympy import Symbol, integrate, sin, N\n",
        "x = Symbol('x')\n",
        "N(integrate(x**3 * sin(9*x)**3, (x,1,5)))\n"
      ]
    }
  ],
  "metadata": {
    "colab": {
      "authorship_tag": "ABX9TyMXotl9jULUdLYus/7oEL6a",
      "collapsed_sections": [],
      "name": "SymPyLab.ipynb",
      "provenance": []
    },
    "kernelspec": {
      "display_name": "Python 3.9.2 64-bit",
      "language": "python",
      "name": "python3"
    },
    "language_info": {
      "codemirror_mode": {
        "name": "ipython",
        "version": 3
      },
      "file_extension": ".py",
      "mimetype": "text/x-python",
      "name": "python",
      "nbconvert_exporter": "python",
      "pygments_lexer": "ipython3",
      "version": "3.9.2"
    },
    "vscode": {
      "interpreter": {
        "hash": "1d5c1156327dacead463cc502c55ebae8ce9c8c01979cf154173ff808e75bf55"
      }
    }
  },
  "nbformat": 4,
  "nbformat_minor": 0
}
